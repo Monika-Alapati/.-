{
 "cells": [
  {
   "cell_type": "markdown",
   "metadata": {},
   "source": [
    "<h2>Question 4 C#</h2>\n",
    "<p>Write a program in C# Sharp to separate odd and even integers in separate arrays.\n",
    "Go to the editor</p>"
   ]
  },
  {
   "cell_type": "code",
   "execution_count": 2,
   "metadata": {},
   "outputs": [],
   "source": [
    "using System;\n",
    "public class trianglearea\n",
    "{\n",
    "    public static void Main()\n",
    "    {\n",
    "        int[] a = new int[10];\n",
    "        int[] b = new int[10];\n",
    "        int[] c = new int[10];\n",
    "        int i, j = 0, k = 0, n;\n",
    "Console.Write(\"\\n\\nSeparate odd and even integers in separate arrays:\\n\");\n",
    "Console.Write(\"Input the number of elements to be stored in the array :\");\n",
    "n = Convert.ToInt32(Console.ReadLine());\n",
    "Console.Write(\"Input {0} elements in the array :\\n\", n);\n",
    "for (i = 0; i < n; i++)\n",
    "        {\n",
    "            Console.Write(\"element - {0} : \", i);\n",
    "            a[i] = Convert.ToInt32(Console.ReadLine());\n",
    "        }\n",
    "for (i = 0; i < n; i++)\n",
    "{\n",
    "if (a[i] % 2 == 0)\n",
    "            {\n",
    "b[j] = a[i];\n",
    "                j++;\n",
    "            }\n",
    "            else\n",
    "            {\n",
    "                c[k] = a[i];\n",
    "                k++;\n",
    "            }\n",
    "        }\n",
    "\n",
    "        Console.Write(\"\\nThe Even elements are : \\n\");\n",
    "        for (i = 0; i < j; i++)\n",
    "        {\n",
    "            Console.Write(\"{0} \", b[i]);\n",
    "        }\n",
    "\n",
    "        Console.Write(\"\\nThe Odd elements are :\\n\");\n",
    "        for (i = 0; i < k; i++)\n",
    "        {\n",
    "            Console.Write(\"{0} \", c[i]);\n",
    "        }\n",
    "        Console.Write(\"\\n\\n\");\n",
    "    }\n",
    "}"
   ]
  },
  {
   "cell_type": "markdown",
   "metadata": {},
   "source": [
    "<h4>Output:</h4>\n",
    "<p> Separate odd and even integers in separate arrays:</p>\n",
    "<p>Input the number of elements to be stored in the array :5</p>\n",
    "<p>Input 5 elements in the array :</p>\n",
    "<p>element - 0 : 25</p>\n",
    "<p>element - 1 : 47</p>\n",
    "<p>element - 2 : 42</p>\n",
    "<p>element - 3 : 56</p>\n",
    "<p>element - 4 : 32</p>\n",
    "\n",
    "<p>The Even elements are :</p>\n",
    "<p>42 56 32</p>\n",
    "<p>The Odd elements are :</p>\n",
    "<p>25 47</p>"
   ]
  },
  {
   "cell_type": "code",
   "execution_count": null,
   "metadata": {},
   "outputs": [],
   "source": []
  }
 ],
 "metadata": {
  "kernelspec": {
   "display_name": ".NET (C#)",
   "language": "C#",
   "name": ".net-csharp"
  },
  "language_info": {
   "file_extension": ".cs",
   "mimetype": "text/x-csharp",
   "name": "C#",
   "pygments_lexer": "csharp",
   "version": "8.0"
  }
 },
 "nbformat": 4,
 "nbformat_minor": 4
}
