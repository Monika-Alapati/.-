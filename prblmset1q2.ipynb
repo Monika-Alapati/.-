{
 "cells": [
  {
   "cell_type": "markdown",
   "metadata": {},
   "source": [
    "<h2>Question 2 C#</h2>\n",
    "Write (and evaluate) C# expressions that answer these questions:\n",
    "<h4>a. How many letters are there in 'Supercalifragilisticexpialidocious'?\n",
    "</h4>"
   ]
  },
  {
   "cell_type": "code",
   "execution_count": 12,
   "metadata": {},
   "outputs": [],
   "source": [
    "string x=\"Supercalifragilisticexpialidocious\";\n",
    "int y= x.Length;"
   ]
  },
  {
   "cell_type": "code",
   "execution_count": 13,
   "metadata": {},
   "outputs": [
    {
     "data": {
      "text/plain": [
       "34"
      ]
     },
     "execution_count": 13,
     "metadata": {},
     "output_type": "execute_result"
    }
   ],
   "source": [
    "y"
   ]
  },
  {
   "cell_type": "markdown",
   "metadata": {},
   "source": [
    "<h4>b. Does 'Supercalifragilisticexpialidocious' contain 'ice' as a substring?</h4> "
   ]
  },
  {
   "cell_type": "code",
   "execution_count": 18,
   "metadata": {},
   "outputs": [
    {
     "name": "stdout",
     "output_type": "stream",
     "text": [
      "True\r\n"
     ]
    }
   ],
   "source": [
    "string a= \"Supercalifragilisticexpialidocious\";\n",
    "string b= \"ice\";\n",
    "if(a.Contains(b))\n",
    "{\n",
    "Console.WriteLine(\"True\");\n",
    "}\n",
    "else{\n",
    "Console.WriteLine(\"False\");\n",
    "}"
   ]
  },
  {
   "cell_type": "markdown",
   "metadata": {},
   "source": [
    "<h4>c. Which of the following words is the longest:\n",
    "Supercalifragilisticexpialidocious, Honorificabilitudinitatibus, or\n",
    "Bababadalgharaghtakamminarronnkonn? </h4>"
   ]
  },
  {
   "cell_type": "code",
   "execution_count": 25,
   "metadata": {},
   "outputs": [
    {
     "name": "stdout",
     "output_type": "stream",
     "text": [
      "Y1 is Longest\r\n"
     ]
    }
   ],
   "source": [
    "string x1=\"Supercalifragilisticexpialidocious\";\n",
    "int y1= x1.Length;\n",
    "string x2= \"Honorificabilitudinitatibus\";\n",
    "int y2= x2.Length;\n",
    "string x3= \"Bababadalgharaghtakamminarronnkonn\";\n",
    "int y3= x3.Length;\n",
    "if (y1 > y2)\n",
    "{\n",
    "Console.WriteLine(\"Y1 is Longest\");\n",
    "}\n",
    "else if (y2> y3)\n",
    "{\n",
    "Console.WriteLine(\"Y2 is Longest\");\n",
    "}\n",
    "else{\n",
    "Console.WriteLine(\"Y3 is Longest\");\n",
    "}"
   ]
  },
  {
   "cell_type": "markdown",
   "metadata": {},
   "source": [
    "<h4>d. Which composer comes first in the dictionary: 'Berlioz', 'Borodin', 'Brian',\n",
    "'Bartok', 'Bellini', 'Buxtehude', 'Bernstein'. Which one comes last?</h4>"
   ]
  },
  {
   "cell_type": "code",
   "execution_count": 54,
   "metadata": {},
   "outputs": [
    {
     "name": "stdout",
     "output_type": "stream",
     "text": [
      "Bartok\n",
      "Bellini\n",
      "Berlioz\n",
      "Bernstein\n",
      "Borodin\n",
      "Brian\n",
      "Buxtehude\n"
     ]
    }
   ],
   "source": [
    "string[] xq = { \"Berlioz\", \"Borodin\", \"Brian\", \"Bartok\", \"Bellini\", \"Buxtehude\", \"Bernstein\" }; \n",
    "Array.Sort<string>(xq); \n",
    "foreach (var xq1 in xq)\n",
    "    Console.WriteLine(xq1);"
   ]
  },
  {
   "cell_type": "code",
   "execution_count": null,
   "metadata": {},
   "outputs": [],
   "source": []
  }
 ],
 "metadata": {
  "kernelspec": {
   "display_name": ".NET (C#)",
   "language": "C#",
   "name": ".net-csharp"
  },
  "language_info": {
   "file_extension": ".cs",
   "mimetype": "text/x-csharp",
   "name": "C#",
   "pygments_lexer": "csharp",
   "version": "8.0"
  }
 },
 "nbformat": 4,
 "nbformat_minor": 4
}
