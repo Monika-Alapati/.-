{
 "cells": [
  {
   "cell_type": "markdown",
   "metadata": {},
   "source": [
    "<h2>Question 5 C#</h2>\n",
    "<p><b> a. Write a function inside(x,y,x1,y1,x2,y2) that returns True or False\n",
    "depending on whether the point (x,y) lies in the rectangle with lower left\n",
    "    corner (x1,y1) and upper right corner (x2,y2).</b></p>"
   ]
  },
  {
   "cell_type": "code",
   "execution_count": 3,
   "metadata": {},
   "outputs": [
    {
     "name": "stdout",
     "output_type": "stream",
     "text": [
      "True"
     ]
    }
   ],
   "source": [
    "static bool inside(int x1, int y1, int x2,\n",
    "                          int y2, int x, int y)\n",
    "    {\n",
    "        if (x > x1 && x < x2 &&\n",
    "            y > y1 && y < y2)\n",
    "            return true;\n",
    "\n",
    "        return false;\n",
    "    }\n",
    " int x1 = 0, y1 = 0,\n",
    "       x2 = 2, y2 = 3;\n",
    "\n",
    "        int x = 1, y = 1;\n",
    "\n",
    "        if (inside(x1, y1, x2, y2, x, y))\n",
    "            Console.Write(\"True\");\n",
    "        else\n",
    "            Console.Write(\"False\");"
   ]
  },
  {
   "cell_type": "markdown",
   "metadata": {},
   "source": [
    "<p><b>b.  Use function inside() from part a. to write an expression that tests whether\n",
    "the point (1,1) lies in both of the following rectangles: one with lower left\n",
    "corner (0.3, 0.5) and upper right corner (1.1, 0.7) and the other with lower\n",
    "    left corner (0.5, 0.2) and upper right corner (1.1, 2).</b></p>"
   ]
  },
  {
   "cell_type": "code",
   "execution_count": 6,
   "metadata": {},
   "outputs": [
    {
     "name": "stdout",
     "output_type": "stream",
     "text": [
      "False"
     ]
    }
   ],
   "source": [
    "static bool inside(double x1, double y1, double x2,\n",
    "                          double y2, double x, double y)\n",
    "    {\n",
    "        if (x > x1 && x < x2 &&\n",
    "            y > y1 && y < y2)\n",
    "            return true;\n",
    "\n",
    "        return false;\n",
    "    }\n",
    " double x1 = 0.3, y1 = 0.5,\n",
    "       x2 = 1.1, y2 = 0.7;\n",
    "\n",
    "        int x = 1, y = 1;\n",
    "\n",
    "        if (inside(x1, y1, x2, y2, x, y))\n",
    "            Console.Write(\"True\");\n",
    "        else\n",
    "            Console.Write(\"False\");"
   ]
  },
  {
   "cell_type": "code",
   "execution_count": 7,
   "metadata": {},
   "outputs": [
    {
     "name": "stdout",
     "output_type": "stream",
     "text": [
      "True"
     ]
    }
   ],
   "source": [
    "static bool inside(double x1, double y1, double x2,\n",
    "                          double y2, double x, double y)\n",
    "    {\n",
    "        if (x > x1 && x < x2 &&\n",
    "            y > y1 && y < y2)\n",
    "            return true;\n",
    "\n",
    "        return false;\n",
    "    }\n",
    " double x1 = 0.5, y1 = 0.2,\n",
    "       x2 = 1.1, y2 = 2;\n",
    "\n",
    "        int x = 1, y = 1;\n",
    "\n",
    "        if (inside(x1, y1, x2, y2, x, y))\n",
    "            Console.Write(\"True\");\n",
    "        else\n",
    "            Console.Write(\"False\");"
   ]
  },
  {
   "cell_type": "code",
   "execution_count": null,
   "metadata": {},
   "outputs": [],
   "source": []
  }
 ],
 "metadata": {
  "kernelspec": {
   "display_name": ".NET (C#)",
   "language": "C#",
   "name": ".net-csharp"
  },
  "language_info": {
   "file_extension": ".cs",
   "mimetype": "text/x-csharp",
   "name": "C#",
   "pygments_lexer": "csharp",
   "version": "8.0"
  }
 },
 "nbformat": 4,
 "nbformat_minor": 4
}
