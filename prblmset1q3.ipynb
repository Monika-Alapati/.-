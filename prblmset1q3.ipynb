{
 "cells": [
  {
   "cell_type": "markdown",
   "metadata": {},
   "source": [
    "<h2>Question 3 C#</h2>\n",
    "<p> Implement function triangleArea(a,b,c) that takes as input the lengths of the 3\n",
    "sides of a triangle and returns the area of the triangle.</P>\n",
    "<p>By Heron's formula, the area\n",
    "of a triangle with side lengths a, b, and c is\n",
    "s(s - a)(s -b)(s -c)\n",
    ", where\n",
    "s = (a+b+c)/2. </P>"
   ]
  },
  {
   "cell_type": "code",
   "execution_count": 2,
   "metadata": {},
   "outputs": [
    {
     "name": "stdout",
     "output_type": "stream",
     "text": [
      "Area = 1.7320508075688772\r\n"
     ]
    }
   ],
   "source": [
    " double s, area;\n",
    "            int a, b, c;\n",
    "            a = 2;\n",
    "            \n",
    "            b = 2;\n",
    "            \n",
    "            c = 2;\n",
    "\n",
    "            s = (a + b + c) / 2;\n",
    "            area = Math.Sqrt(s * (s - a) * (s - b) * (s - c));\n",
    "\n",
    "            Console.WriteLine(\"Area = {0}\", area);"
   ]
  },
  {
   "cell_type": "code",
   "execution_count": null,
   "metadata": {},
   "outputs": [],
   "source": []
  }
 ],
 "metadata": {
  "kernelspec": {
   "display_name": ".NET (C#)",
   "language": "C#",
   "name": ".net-csharp"
  },
  "language_info": {
   "file_extension": ".cs",
   "mimetype": "text/x-csharp",
   "name": "C#",
   "pygments_lexer": "csharp",
   "version": "8.0"
  }
 },
 "nbformat": 4,
 "nbformat_minor": 4
}
